{
 "cells": [
  {
   "cell_type": "code",
   "execution_count": 3,
   "id": "1675a264",
   "metadata": {},
   "outputs": [
    {
     "name": "stdout",
     "output_type": "stream",
     "text": [
      "⏳ Fetching 365-day data for NVDA…\n",
      " → Wrote NVDA_365d.json (250 points)\n",
      "⏳ Fetching 365-day data for TER…\n",
      " → Wrote TER_365d.json (250 points)\n",
      "⏳ Fetching 365-day data for PAYC…\n",
      " → Wrote PAYC_365d.json (250 points)\n",
      "✅ All price series updated.\n"
     ]
    }
   ],
   "source": [
    "#!/usr/bin/env python3\n",
    "\"\"\"\n",
    "Fetches 365-day adjusted close price series for NVDA, TER, PAYC\n",
    "using yfinance with a curl_cffi session to avoid YFRateLimitError.\n",
    "\"\"\"\n",
    "import json, os, time\n",
    "from datetime import datetime, timedelta\n",
    "\n",
    "# 1) Install dependencies: pip install yfinance curl_cffi\n",
    "from curl_cffi import requests                  # curl_cffi for browser impersonation :contentReference[oaicite:5]{index=5}\n",
    "import yfinance as yf                           # yfinance ≥ 0.2.54 :contentReference[oaicite:6]{index=6}\n",
    "\n",
    "# 2) Create a session that mimics Chrome\n",
    "session = requests.Session(impersonate=\"chrome124\")  # pick latest Chrome fingerprint :contentReference[oaicite:7]{index=7}\n",
    "\n",
    "# 3) Prepare tickers and date window\n",
    "TICKERS = [\"NVDA\", \"TER\", \"PAYC\"]\n",
    "end = datetime.now()\n",
    "start = end - timedelta(days=365)\n",
    "\n",
    "# 4) Repo root for writing JSON\n",
    "repo_root = \"/Users/paulgrass/Library/Mobile Documents/com~apple~CloudDocs/Documents/Programming/Git/pilot1-asset-data\"\n",
    "\n",
    "for sym in TICKERS:\n",
    "    print(f\"⏳ Fetching 365-day data for {sym}…\")\n",
    "    # Inject our curl_cffi session into yf.Ticker\n",
    "    ticker = yf.Ticker(sym, session=session)    # avoids rate-limit :contentReference[oaicite:8]{index=8}\n",
    "    df     = ticker.history(\n",
    "        start=start.strftime(\"%Y-%m-%d\"),\n",
    "        end=end.strftime(\"%Y-%m-%d\"),\n",
    "        auto_adjust=True\n",
    "    )\n",
    "\n",
    "    # 5) Build point list [timestamp_ms, close]\n",
    "    pts = [\n",
    "        [int(time.mktime(idx.timetuple()) * 1000), round(row[\"Close\"], 2)]\n",
    "        for idx, row in df.iterrows()\n",
    "    ]\n",
    "\n",
    "    # 6) Write JSON\n",
    "    out_path = os.path.join(repo_root, f\"{sym}_365d.json\")\n",
    "    with open(out_path, \"w\") as f:\n",
    "        json.dump({\"prices\": pts}, f, indent=2)\n",
    "    print(f\" → Wrote {sym}_365d.json ({len(pts)} points)\")\n",
    "\n",
    "    # 7) Brief pause to stay polite (not strictly required now)\n",
    "    time.sleep(1)\n",
    "\n",
    "print(\"✅ All price series updated.\")\n"
   ]
  }
 ],
 "metadata": {
  "kernelspec": {
   "display_name": "base",
   "language": "python",
   "name": "python3"
  },
  "language_info": {
   "codemirror_mode": {
    "name": "ipython",
    "version": 3
   },
   "file_extension": ".py",
   "mimetype": "text/x-python",
   "name": "python",
   "nbconvert_exporter": "python",
   "pygments_lexer": "ipython3",
   "version": "3.11.4"
  }
 },
 "nbformat": 4,
 "nbformat_minor": 5
}
